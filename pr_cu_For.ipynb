{
 "cells": [
  {
   "cell_type": "code",
   "execution_count": 2,
   "id": "879727b9",
   "metadata": {},
   "outputs": [
    {
     "name": "stdout",
     "output_type": "stream",
     "text": [
      "Cat face 2+2\n",
      "2\n",
      "Gresit, si totusi, Cat face 2+2\n",
      "11\n",
      "{11}\n",
      "Gresit, si totusi, Cat face 2+2\n",
      "4\n",
      "{4}\n",
      "Bravo, ai reusit\n"
     ]
    }
   ],
   "source": [
    "print (\"Cat face 2+2\")\n",
    "a=int(input())\n",
    "while a!=4:\n",
    "    print (\"Gresit, si totusi, Cat face 2+2\")\n",
    "    a=int(input())\n",
    "    print({a})\n",
    "print (\"Bravo, ai reusit\")"
   ]
  },
  {
   "cell_type": "code",
   "execution_count": 5,
   "id": "a189f259",
   "metadata": {},
   "outputs": [
    {
     "name": "stdout",
     "output_type": "stream",
     "text": [
      "* \n",
      "* * \n",
      "* * * \n",
      "* * * * \n"
     ]
    }
   ],
   "source": [
    "for i in range (1,5):\n",
    "    for j in range (0,i):\n",
    "        print ('*', end=' ')\n",
    "    print()    \n",
    "        "
   ]
  },
  {
   "cell_type": "code",
   "execution_count": 14,
   "id": "edd7ceea",
   "metadata": {},
   "outputs": [
    {
     "name": "stdout",
     "output_type": "stream",
     "text": [
      "  1   2   3   4   5   6   7   8   9  10 \n",
      "  2   4   6   8  10  12  14  16  18  20 \n",
      "  3   6   9  12  15  18  21  24  27  30 \n",
      "  4   8  12  16  20  24  28  32  36  40 \n",
      "  5  10  15  20  25  30  35  40  45  50 \n",
      "  6  12  18  24  30  36  42  48  54  60 \n",
      "  7  14  21  28  35  42  49  56  63  70 \n",
      "  8  16  24  32  40  48  56  64  72  80 \n",
      "  9  18  27  36  45  54  63  72  81  90 \n",
      " 10  20  30  40  50  60  70  80  90 100 \n"
     ]
    }
   ],
   "source": [
    "for i in range (1,11):\n",
    "    for j in range (1,11):\n",
    "        print ('{0:3d}'.format(i*j),end=' ')\n",
    "    print()    "
   ]
  },
  {
   "cell_type": "code",
   "execution_count": 39,
   "id": "4f18e30f",
   "metadata": {},
   "outputs": [
    {
     "name": "stdout",
     "output_type": "stream",
     "text": [
      "Suma elementelor este  8\n",
      "produsul elementelor este  -210\n"
     ]
    }
   ],
   "source": [
    "a=[2,3,1,-5,7]\n",
    "s=0\n",
    "p=1;\n",
    "for i in range(0,len(a)):\n",
    "    s+=a[i]\n",
    "    p=p*a[i]\n",
    "print (\"Suma elementelor este \",s)\n",
    "print (\"produsul elementelor este \",p)"
   ]
  },
  {
   "cell_type": "code",
   "execution_count": null,
   "id": "c5708fb2",
   "metadata": {},
   "outputs": [],
   "source": []
  }
 ],
 "metadata": {
  "kernelspec": {
   "display_name": "Python 3",
   "language": "python",
   "name": "python3"
  },
  "language_info": {
   "codemirror_mode": {
    "name": "ipython",
    "version": 3
   },
   "file_extension": ".py",
   "mimetype": "text/x-python",
   "name": "python",
   "nbconvert_exporter": "python",
   "pygments_lexer": "ipython3",
   "version": "3.7.8"
  }
 },
 "nbformat": 4,
 "nbformat_minor": 5
}
