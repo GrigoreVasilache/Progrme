{
 "cells": [
  {
   "cell_type": "code",
   "execution_count": null,
   "id": "d1b545da",
   "metadata": {},
   "outputs": [],
   "source": [
    "print (\"Cat face 2+2\")\n",
    "a=input()\n",
    "while a!=4:\n",
    "    print (\"Gresit, si totusi, Cat face 2+2\")\n",
    "    a=input()\n",
    "    print({a})\n",
    "print (\"Bravo, ai reusit\")"
   ]
  },
  {
   "cell_type": "code",
   "execution_count": null,
   "id": "649bb603",
   "metadata": {},
   "outputs": [],
   "source": []
  }
 ],
 "metadata": {
  "kernelspec": {
   "display_name": "Python 3",
   "language": "python",
   "name": "python3"
  },
  "language_info": {
   "codemirror_mode": {
    "name": "ipython",
    "version": 3
   },
   "file_extension": ".py",
   "mimetype": "text/x-python",
   "name": "python",
   "nbconvert_exporter": "python",
   "pygments_lexer": "ipython3",
   "version": "3.7.8"
  }
 },
 "nbformat": 4,
 "nbformat_minor": 5
}
